{
 "cells": [
  {
   "cell_type": "markdown",
   "metadata": {},
   "source": [
    "# Sentiment prediction"
   ]
  },
  {
   "cell_type": "code",
   "execution_count": 1,
   "metadata": {},
   "outputs": [
    {
     "name": "stdout",
     "output_type": "stream",
     "text": [
      "matplotlib 3.1.1\n"
     ]
    }
   ],
   "source": [
    "from textblob import TextBlob\n",
    "import nltk\n",
    "from newspaper import Article\n",
    "\n",
    "import requests\n",
    "from bs4 import BeautifulSoup\n",
    "import re\n",
    "\n",
    "\n",
    "import matplotlib\n",
    "print(\"matplotlib\", matplotlib.__version__)\n",
    "\n",
    "%matplotlib inline\n",
    "import matplotlib.pyplot as plt"
   ]
  },
  {
   "cell_type": "code",
   "execution_count": 2,
   "metadata": {},
   "outputs": [],
   "source": [
    "search = \"air nz news\"\n",
    "results = 10 # valid options 10, 20, 30, 40, 50, and 100\n",
    "page = requests.get(\"https://www.google.com/search?q={}&num={}\".format(search, results))\n",
    "soup = BeautifulSoup(page.content, \"html5lib\")\n",
    "links = soup.findAll(\"a\")\n",
    "link_list = []\n",
    "for link in links :\n",
    "    link_href = link.get('href')\n",
    "    if \"url?q=\" in link_href and not \"webcache\" in link_href:\n",
    "        link_list.append((link.get('href').split(\"?q=\")[1].split(\"&sa=U\")[0]))"
   ]
  },
  {
   "cell_type": "code",
   "execution_count": 3,
   "metadata": {},
   "outputs": [
    {
     "name": "stdout",
     "output_type": "stream",
     "text": [
      "Sentiment is:  0.0 \n",
      "from https://www.airnewzealand.co.nz/media-releases\n",
      "Sentiment is:  0.062215909090909086 \n",
      "from https://www.airnewzealand.co.nz/travel-alerts\n",
      "error \n",
      "from https://www.nzherald.co.nz/business/news/article.cfm%3Fc_id%3D3%26objectid%3D12286260\n",
      "error \n",
      "from https://www.nzherald.co.nz/nz/news/article.cfm%3Fc_id%3D1%26objectid%3D12290201\n",
      "Sentiment is:  0.4 \n",
      "from https://www.tvnz.co.nz/one-news/air-new-zealand\n",
      "Sentiment is:  0.024431818181818176 \n",
      "from https://www.newshub.co.nz/home/travel/2019/11/air-nz-cancels-holiday-season-flights-during-due-to-engine-issues.html\n",
      "Sentiment is:  0.024431818181818176 \n",
      "from https://www.newshub.co.nz/home/travel/2019/11/air-nz-cancels-holiday-season-flights-during-due-to-engine-issues.html\n",
      "Sentiment is:  0.35 \n",
      "from https://www.newshub.co.nz/home/travel/2019/11/air-nz-unveils-les-mills-low-impact-in-flight-workout-for-passengers.html\n",
      "Sentiment is:  0.13897727272727273 \n",
      "from https://www.stuff.co.nz/travel/news/117497136/air-new-zealand-international-services-in-turmoil-as-dreamliner-engine-issues-drag-on\n",
      "Sentiment is:  0.0028409090909090884 \n",
      "from https://traveltalk.nz/news-opinion/airline/\n",
      "Sentiment is:  0.04863636363636363 \n",
      "from https://www.rnz.co.nz/news/business/403526/air-nz-cancels-82-international-flights-over-christmas-period-due-to-engines\n",
      "error \n",
      "from https://accounts.google.com/ServiceLogin%3Fcontinue%3Dhttps://www.google.com/search%253Fq%253Dair%252Bnz%252Bnews%2526num%253D10%26hl%3Den\n"
     ]
    }
   ],
   "source": [
    "#Get the article\n",
    "sentiments = []\n",
    "\n",
    "for url in link_list:\n",
    "    try:\n",
    "        article = Article(url)\n",
    "\n",
    "        # Do some NLP\n",
    "        article.download() #Downloads the link’s HTML content\n",
    "        article.parse() #Parse the article\n",
    "        #nltk.download('punkt')#uncomment and run when running for the first time\n",
    "        article.nlp()#  Keyword extraction wrapper\n",
    "\n",
    "        text = article.summary\n",
    "\n",
    "        obj = TextBlob(text)\n",
    "        #returns the sentiment of text\n",
    "        #by returning a value between -1.0 and 1.0\n",
    "        sentiment = obj.sentiment.polarity\n",
    "        print(\"Sentiment is: \", sentiment, \"\\nfrom\",url)\n",
    "        sentiments.append(sentiment)\n",
    "    except:\n",
    "        print(\"error\", \"\\nfrom\", url)\n",
    "        "
   ]
  },
  {
   "cell_type": "code",
   "execution_count": 4,
   "metadata": {},
   "outputs": [
    {
     "data": {
      "image/png": "[encoded data removed]",
      "text/plain": [
       "<Figure size 432x288 with 1 Axes>"
      ]
     },
     "metadata": {
      "needs_background": "light"
     },
     "output_type": "display_data"
    }
   ],
   "source": [
    "plt.hist(sentiments, bins = results, density = True);"
   ]
  },
  {
   "cell_type": "code",
   "execution_count": null,
   "metadata": {},
   "outputs": [],
   "source": []
  }
 ],
 "metadata": {
  "kernelspec": {
   "display_name": "Python 3",
   "language": "python",
   "name": "python3"
  },
  "language_info": {
   "codemirror_mode": {
    "name": "ipython",
    "version": 3
   },
   "file_extension": ".py",
   "mimetype": "text/x-python",
   "name": "python",
   "nbconvert_exporter": "python",
   "pygments_lexer": "ipython3",
   "version": "3.7.4"
  }
 },
 "nbformat": 4,
 "nbformat_minor": 2
}
